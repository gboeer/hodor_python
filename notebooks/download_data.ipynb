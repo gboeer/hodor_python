{
 "cells": [
  {
   "cell_type": "code",
   "execution_count": 9,
   "id": "9cbe311e",
   "metadata": {},
   "outputs": [],
   "source": [
    "from hodor_python.dataset import HODOR_Dataset, Species\n",
    "\n",
    "# need to allow nested event loops in notebooks to enable async download\n",
    "import nest_asyncio\n",
    "nest_asyncio.apply()"
   ]
  },
  {
   "cell_type": "markdown",
   "id": "d589eef4",
   "metadata": {},
   "source": [
    "## Downloading Data from HODOR Dataset\n",
    "\n",
    "The HODOR dataset class provides flexible download functions to retrieve data based on your specific needs:\n",
    "\n",
    "In the example below, we create a HODOR dataset instance with a local folder called \"HODOR\" where all downloaded files will be stored. The dataset will automatically skip downloading files that already exist locally, making it safe to re-run download commands without duplicating data.\n",
    "\n",
    "```python\n",
    "# Example: Create dataset instance and download sequence 1\n",
    "hodor = HODOR_Dataset(dataset_folder=\"HODOR\")\n",
    "hodor.download_sequence(1)\n",
    "```\n",
    "\n",
    "All downloaded files (videos, sonar data, and metadata) will be organized within the specified dataset folder. The downloader checks for existing files and only downloads what's missing.\n",
    "\n",
    "### Download Options\n",
    "\n",
    "- **Complete Sequences**: Download both video and sonar data for entire sequences using sequence IDs\n",
    "    - Single sequence: Pass an individual sequence ID\n",
    "    - Multiple sequences: Pass a list of sequence IDs\n",
    "\n",
    "- **Video Data Only**: Download just the video files for specified sequences\n",
    "\n",
    "- **Sonar Data Only**: Download just the sonar files for specified sequences\n",
    "\n",
    "### Downloading Strategy \n",
    "\n",
    "For single sequences, no Pangaea account is required. However, downloading the entire dataset at once requires registration at Pangaea and is not recommended due to the large dataset size. A better approach is to:\n",
    "\n",
    "1. First examine the included activity counts data to identify sequences with interesting species activity\n",
    "2. Use the sequence IDs to selectively download only the sequences relevant to your research\n",
    "3. This targeted approach is more efficient and avoids unnecessary data transfer\n",
    "\n",
    "### Important Note about Pangaea Storage\n",
    "\n",
    "The HODOR dataset is hosted on [Pangaea](https://doi.pangaea.de/10.1594/PANGAEA.980000), which uses a hierarchical storage system. If files haven't been accessed recently, they may be stored on tape storage rather than immediately available disk storage. When you request such files, Pangaea will automatically retrieve them from tape storage, which can take some time (depending on the file size and system load).\n",
    "\n",
    "The downloader is designed to handle this automatically - it will wait for the file retrieval process to complete and then proceed with the download once the files become available on disk storage. You may notice longer download times for files that need to be retrieved from tape storage compared to files that are already available on disk."
   ]
  },
  {
   "cell_type": "code",
   "execution_count": 2,
   "id": "7d6b2233",
   "metadata": {},
   "outputs": [
    {
     "name": "stdout",
     "output_type": "stream",
     "text": [
      "cam2_0001.mp4 is being retrieved from tape. Retrying in 30 seconds...\n",
      "Downloaded cam1_0001.txt successfully!\n",
      "Downloaded cam2_0001.txt successfully!\n",
      "Downloaded cam1_0001.mp4 successfully!\n",
      "cam2_0001.mp4 is being retrieved from tape. Retrying in 60 seconds...\n",
      "cam2_0001.mp4 is being retrieved from tape. Retrying in 90 seconds...\n",
      "Downloaded cam2_0001.mp4 successfully!\n",
      "Downloaded sonar_0001.txt successfully!\n",
      "Downloaded sonar_0001.mp4 successfully!\n"
     ]
    }
   ],
   "source": [
    "# Example: Create dataset instance and download sequence 1\n",
    "hodor = HODOR_Dataset(dataset_folder=\"HODOR\")\n",
    "hodor.download_sequence(1)"
   ]
  },
  {
   "cell_type": "markdown",
   "id": "a3d21855",
   "metadata": {},
   "source": [
    "In the above example it can be seen, that some files had to be retrieved from tape first and have afterwards been downloaded.\n",
    "\n",
    "If the same sequence is downloaded again, the files will be skipped:"
   ]
  },
  {
   "cell_type": "code",
   "execution_count": 3,
   "id": "ed6cf8c9",
   "metadata": {},
   "outputs": [
    {
     "name": "stdout",
     "output_type": "stream",
     "text": [
      "File cam2_0001.txt already exists, skipping.\n",
      "File cam1_0001.txt already exists, skipping.\n",
      "File cam1_0001.mp4 already exists, skipping.\n",
      "File cam2_0001.mp4 already exists, skipping.\n",
      "File sonar_0001.txt already exists, skipping.\n",
      "File sonar_0001.mp4 already exists, skipping.\n"
     ]
    }
   ],
   "source": [
    "hodor.download_sequence(1)"
   ]
  },
  {
   "cell_type": "markdown",
   "id": "af6090bd",
   "metadata": {},
   "source": [
    "## Finding Interesting Sequences\n",
    "\n",
    "The HODOR dataset includes activity count data that allows you to identify sequences with specific species of interest. This is particularly useful for targeted downloading rather than retrieving the entire dataset.\n",
    "\n",
    "### Example: Finding Sequences with High Cod Activity\n",
    "\n",
    "You can filter sequences based on species occurrence counts. For example, to find sequences with significant cod activity (more than 10 detections):\n",
    "\n",
    "```python\n",
    "# Find all sequences with more than 10 cod detected\n",
    "interesting_sequences = list(hodor.counts[hodor.counts[Species.FISH_COD] > 10].SeqID)\n",
    "print(f\"Found {len(interesting_sequences)} sequences with >10 cod detections\")\n",
    "print(f\"Sequence IDs: {interesting_sequences}\")\n",
    "```\n",
    "\n",
    "This approach allows you to:\n",
    "- Identify sequences with high biological activity\n",
    "- Focus your analysis on relevant data\n",
    "- Minimize download time and storage requirements\n",
    "- Target specific species of research interest\n",
    "\n",
    "You can then use these sequence IDs to download only the data you need for your research."
   ]
  },
  {
   "cell_type": "code",
   "execution_count": 4,
   "id": "95e6e05d",
   "metadata": {},
   "outputs": [
    {
     "name": "stdout",
     "output_type": "stream",
     "text": [
      "Found 4 sequences with >10 cod detections\n",
      "Sequence IDs: [1464, 1788, 2892, 2895]\n"
     ]
    }
   ],
   "source": [
    "# Find all sequences with more than 10 cod detected\n",
    "interesting_sequences = list(hodor.counts[hodor.counts[Species.FISH_COD] > 10].SeqID)\n",
    "print(f\"Found {len(interesting_sequences)} sequences with >10 cod detections\")\n",
    "print(f\"Sequence IDs: {interesting_sequences}\")"
   ]
  },
  {
   "cell_type": "code",
   "execution_count": 8,
   "id": "4346cc43",
   "metadata": {},
   "outputs": [
    {
     "data": {
      "text/plain": [
       "SeqID                                          1464\n",
       "sequenceStartUnix                        1631898552\n",
       "sequenceEndUnix                          1631898779\n",
       "DateTimeStart            2021-09-17 17:09:12.139000\n",
       "DateTimeEnd              2021-09-17 17:12:58.529000\n",
       "sequence_length              0 days 00:03:46.390000\n",
       "anguilla_anguilla                                 0\n",
       "bird_cormorant                                    0\n",
       "bird_unspecified                                  0\n",
       "crab_crustacea                                    0\n",
       "fish_clupeidae                                    0\n",
       "fish_cod                                         14\n",
       "fish_mackerel                                     0\n",
       "fish_mugilidae                                    0\n",
       "fish_oncorhynchus                                 0\n",
       "fish_pipefish                                     0\n",
       "fish_plaice                                       0\n",
       "fish_salmonidae                                   0\n",
       "fish_scad                                         0\n",
       "fish_unspecified                                 10\n",
       "jellyfish_aurelia                                 0\n",
       "jellyfish_ctenophora                              0\n",
       "jellyfish_cyanea                                  0\n",
       "jellyfish_unspecified                             0\n",
       "Name: 1464, dtype: object"
      ]
     },
     "execution_count": 8,
     "metadata": {},
     "output_type": "execute_result"
    }
   ],
   "source": [
    "# Check how many cod were detected in sequence 1464\n",
    "hodor.counts.loc[interesting_sequences[0]]"
   ]
  },
  {
   "cell_type": "code",
   "execution_count": 6,
   "id": "ffd4aef6",
   "metadata": {},
   "outputs": [
    {
     "name": "stdout",
     "output_type": "stream",
     "text": [
      "cam2_1464.txt is being retrieved from tape. Retrying in 30 seconds...\n",
      "cam2_1464.mp4 is being retrieved from tape. Retrying in 30 seconds...\n",
      "cam1_1464.mp4 is being retrieved from tape. Retrying in 30 seconds...\n",
      "cam1_1464.txt is being retrieved from tape. Retrying in 30 seconds...\n",
      "Downloaded cam2_1464.txt successfully!\n",
      "Downloaded cam1_1464.txt successfully!\n",
      "Downloaded cam1_1464.mp4 successfully!\n",
      "Downloaded cam2_1464.mp4 successfully!\n"
     ]
    }
   ],
   "source": [
    "# download video data for one of these sequences\n",
    "hodor.download_video(interesting_sequences[0])"
   ]
  }
 ],
 "metadata": {
  "kernelspec": {
   "display_name": "hodor_python (3.10.6)",
   "language": "python",
   "name": "python3"
  },
  "language_info": {
   "codemirror_mode": {
    "name": "ipython",
    "version": 3
   },
   "file_extension": ".py",
   "mimetype": "text/x-python",
   "name": "python",
   "nbconvert_exporter": "python",
   "pygments_lexer": "ipython3",
   "version": "3.10.6"
  }
 },
 "nbformat": 4,
 "nbformat_minor": 5
}
